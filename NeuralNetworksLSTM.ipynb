{
 "cells": [
  {
   "cell_type": "code",
   "execution_count": 591,
   "metadata": {
    "collapsed": false
   },
   "outputs": [
    {
     "name": "stdout",
     "output_type": "stream",
     "text": [
      "Predict file ./data/LSTM/2017-02-01.csv\n",
      "Out file ./data/final2/2017-02-01.csv\n"
     ]
    }
   ],
   "source": [
    "import numpy as np\n",
    "import pandas as pd\n",
    "from sklearn.preprocessing import StandardScaler\n",
    "from time import time\n",
    "from datetime import date\n",
    "import glob\n",
    "from keras.models import Sequential\n",
    "from keras.layers import Dense, Activation\n",
    "\n",
    "np.random.seed(1337)\n",
    "\n",
    "today = str(date.today())\n",
    "end_date = today\n",
    "\n",
    "\n",
    "path = r'./data/LSTM'  # use your path\n",
    "allFiles = glob.glob(path + \"/2*.csv\")\n",
    "\n",
    "dataset = pd.DataFrame()\n",
    "\n",
    "for _file in allFiles:\n",
    "        try:\n",
    "            t = pd.read_csv(_file, header=0)\n",
    "            if \"LastGame\" not in t:\n",
    "                print(\"LastGame not in \" + _file)\n",
    "            k = len(t[((t[\"Final\"]==0) & (t[\"injured\"]==0))])\n",
    "            #if k > 0:\n",
    "            #print(\"Found something in: \" + _file + \" count: \" + str(k))\n",
    "            dataset = pd.concat([dataset,t])\n",
    "        except:\n",
    "            print(\"There was an exception with \" + _file)\n",
    "            pass\n",
    "\n",
    "        \n",
    "\n",
    "\n",
    "predict_file = './data/LSTM/2017-02-01.csv'\n",
    "print(\"Predict file \" + predict_file)\n",
    "dfPredict = pd.read_csv(predict_file, header=0)\n",
    "\n",
    "out_file = predict_file.replace(\"LSTM\",\"final2\")\n",
    "print(\"Out file \" + out_file)"
   ]
  },
  {
   "cell_type": "code",
   "execution_count": 592,
   "metadata": {
    "collapsed": false,
    "scrolled": true
   },
   "outputs": [
    {
     "name": "stdout",
     "output_type": "stream",
     "text": [
      "8533\n",
      "8533\n",
      "300\n",
      "300\n"
     ]
    }
   ],
   "source": [
    "print(len(dfTrain))\n",
    "dfTrain.fillna(0.0, inplace=True)\n",
    "dfTrain.loc[(dfTrain['Final'] == 0),\"Final\"] = dfTrain[(dfTrain['Final'])==0]['4GameAvg']\n",
    "dfTrain = dfTrain.dropna()\n",
    "#dfTrain[(dfTrain[\"Final\"]==0)] = dfTrain[(dfTrain[\"Final\"]==0)][[\"4GameAvg\"]]\n",
    "print(len(dfTrain))\n",
    "\n",
    "print(len(dfTest))\n",
    "dfTest.loc[:,('LastGame','fvalue','Final')].fillna(0.0, inplace=True)\n",
    "dfTest.loc[(dfTest['Final'] == 0),\"Final\"] = dfTest[(dfTest['Final'])==0]['4GameAvg']\n",
    "dfTest = dfTest.dropna()\n",
    "print(len(dfTest))"
   ]
  },
  {
   "cell_type": "markdown",
   "metadata": {
    "collapsed": false
   },
   "source": [
    "##dfTrain.loc[:,('4GameAvg','LastGame','fvalue','Final')].head(10)\n",
    "dfTrain.head()"
   ]
  },
  {
   "cell_type": "code",
   "execution_count": 593,
   "metadata": {
    "collapsed": false
   },
   "outputs": [
    {
     "data": {
      "text/plain": [
       "Index([], dtype='object')"
      ]
     },
     "execution_count": 593,
     "metadata": {},
     "output_type": "execute_result"
    }
   ],
   "source": [
    "dfTest.columns[pd.isnull(dfTest).any()]"
   ]
  },
  {
   "cell_type": "code",
   "execution_count": 594,
   "metadata": {
    "collapsed": false
   },
   "outputs": [
    {
     "name": "stdout",
     "output_type": "stream",
     "text": [
      "358\n",
      "358\n"
     ]
    }
   ],
   "source": [
    "print(len(dfPredict))\n",
    "dfPredict = dfPredict.fillna(0)\n",
    "print(len(dfPredict))"
   ]
  },
  {
   "cell_type": "code",
   "execution_count": 595,
   "metadata": {
    "collapsed": false
   },
   "outputs": [],
   "source": [
    "scaler = StandardScaler()\n",
    "scalerY = StandardScaler()\n",
    "all_features = ['Salary','AvgPointsPerGame','7GameAvg','FloorAvg'\n",
    "            ,'4GameAvg','value','fvalue','atHome','LastGame','O/U','odds',\"dvp\",\"Game0\",\"Game1\",\"Game2\",\n",
    "           \"Game2\",\"Game3\",\"Game4\",\"Game5\",\"Game6\",\"Game7\",\"Game8\",\"Game9\",\"Game10\"]\n",
    "features = [\"Game10\",\"Game9\",\"Game8\",\"Game7\",\"Game6\",\"Game5\",\"Game4\",\"Game3\",\"Game2\",\"Game1\"]\n"
   ]
  },
  {
   "cell_type": "code",
   "execution_count": 596,
   "metadata": {
    "collapsed": false
   },
   "outputs": [],
   "source": [
    "# convert an array of values into a dataset matrix\n",
    "def create_dataset(_dataset, look_back=1):\n",
    "    dataX, dataY = [], []\n",
    "    for i in range(len(_dataset)):\n",
    "        a = _dataset.iloc[i][features].values\n",
    "        dataX.append(a)\n",
    "        dataY.append(_dataset.iloc[i][\"Final\"])\n",
    "    return numpy.array(dataX), numpy.array(dataY)"
   ]
  },
  {
   "cell_type": "code",
   "execution_count": 597,
   "metadata": {
    "collapsed": false
   },
   "outputs": [],
   "source": [
    "scaler = StandardScaler()\n",
    "dataset.fillna(0.0, inplace=True)\n",
    "dataset.loc[(dataset['Final'] == 0),\"Final\"] = dataset[(dataset['Final'])==0]['4GameAvg']\n",
    "\n",
    "dataset[all_features]=scaler.fit_transform(dataset[all_features])\n",
    "\n",
    "dfTrain = dataset[:-300].copy()\n",
    "dfTest  =  dataset[-300:].copy()\n",
    "\n",
    "X_train, y_train = create_dataset(dfTrain)\n",
    "X_test, y_test = create_dataset(dfTest)\n",
    "\n",
    "# X_train = scaler.fit_transform(df_train[all_features].values)\n",
    "# y_train = df_train[\"Final\"]"
   ]
  },
  {
   "cell_type": "code",
   "execution_count": 598,
   "metadata": {
    "collapsed": false
   },
   "outputs": [],
   "source": [
    "# X_train_ =  numpy.reshape(X_train, (X_train.shape[0], X_train.shape[1],1))"
   ]
  },
  {
   "cell_type": "code",
   "execution_count": 599,
   "metadata": {
    "collapsed": false
   },
   "outputs": [],
   "source": [
    "#df_test = dfTest.copy()\n",
    "#df_test[all_features] = scaler.transform(df_test[all_features])\n",
    "#X_test = scaler.transform(df_test[all_features].values)\n",
    "#y_test = df_test[\"Final\"]"
   ]
  },
  {
   "cell_type": "code",
   "execution_count": 600,
   "metadata": {
    "collapsed": false
   },
   "outputs": [
    {
     "data": {
      "text/html": [
       "<div>\n",
       "<table border=\"1\" class=\"dataframe\">\n",
       "  <thead>\n",
       "    <tr style=\"text-align: right;\">\n",
       "      <th></th>\n",
       "      <th>4GameAvg</th>\n",
       "      <th>7GameAvg</th>\n",
       "      <th>AvgPointsPerGame</th>\n",
       "      <th>Final</th>\n",
       "      <th>FloorAvg</th>\n",
       "      <th>Game0</th>\n",
       "      <th>Game1</th>\n",
       "      <th>Game10</th>\n",
       "      <th>Game2</th>\n",
       "      <th>Game3</th>\n",
       "      <th>...</th>\n",
       "      <th>RF</th>\n",
       "      <th>Salary</th>\n",
       "      <th>atHome</th>\n",
       "      <th>dvp</th>\n",
       "      <th>fvalue</th>\n",
       "      <th>injured</th>\n",
       "      <th>odds</th>\n",
       "      <th>penalty</th>\n",
       "      <th>teamAbbrev</th>\n",
       "      <th>value</th>\n",
       "    </tr>\n",
       "  </thead>\n",
       "  <tbody>\n",
       "    <tr>\n",
       "      <th>0</th>\n",
       "      <td>2.996755</td>\n",
       "      <td>4.184127</td>\n",
       "      <td>3.965650</td>\n",
       "      <td>73.25</td>\n",
       "      <td>4.261886</td>\n",
       "      <td>3.781048</td>\n",
       "      <td>4.275414</td>\n",
       "      <td>3.020246</td>\n",
       "      <td>1.708908</td>\n",
       "      <td>1.234895</td>\n",
       "      <td>...</td>\n",
       "      <td>0.0</td>\n",
       "      <td>4.904900</td>\n",
       "      <td>1.00034</td>\n",
       "      <td>0.910483</td>\n",
       "      <td>-0.104460</td>\n",
       "      <td>0</td>\n",
       "      <td>-0.428510</td>\n",
       "      <td>0.0</td>\n",
       "      <td>OKC</td>\n",
       "      <td>4.904900</td>\n",
       "    </tr>\n",
       "    <tr>\n",
       "      <th>1</th>\n",
       "      <td>2.772739</td>\n",
       "      <td>2.599979</td>\n",
       "      <td>2.683915</td>\n",
       "      <td>42.50</td>\n",
       "      <td>2.997321</td>\n",
       "      <td>1.733374</td>\n",
       "      <td>1.785623</td>\n",
       "      <td>2.223574</td>\n",
       "      <td>2.713562</td>\n",
       "      <td>2.811195</td>\n",
       "      <td>...</td>\n",
       "      <td>0.0</td>\n",
       "      <td>3.129784</td>\n",
       "      <td>-0.99966</td>\n",
       "      <td>0.255539</td>\n",
       "      <td>-0.125888</td>\n",
       "      <td>0</td>\n",
       "      <td>0.711259</td>\n",
       "      <td>0.0</td>\n",
       "      <td>Was</td>\n",
       "      <td>3.129784</td>\n",
       "    </tr>\n",
       "    <tr>\n",
       "      <th>2</th>\n",
       "      <td>2.446303</td>\n",
       "      <td>2.890421</td>\n",
       "      <td>2.257830</td>\n",
       "      <td>55.25</td>\n",
       "      <td>2.578318</td>\n",
       "      <td>2.582409</td>\n",
       "      <td>3.495280</td>\n",
       "      <td>1.647259</td>\n",
       "      <td>1.675420</td>\n",
       "      <td>2.341659</td>\n",
       "      <td>...</td>\n",
       "      <td>0.0</td>\n",
       "      <td>2.671689</td>\n",
       "      <td>1.00034</td>\n",
       "      <td>0.910483</td>\n",
       "      <td>0.216955</td>\n",
       "      <td>0</td>\n",
       "      <td>-0.855924</td>\n",
       "      <td>0.0</td>\n",
       "      <td>Min</td>\n",
       "      <td>2.671689</td>\n",
       "    </tr>\n",
       "    <tr>\n",
       "      <th>3</th>\n",
       "      <td>1.861710</td>\n",
       "      <td>2.094040</td>\n",
       "      <td>2.193408</td>\n",
       "      <td>36.25</td>\n",
       "      <td>2.113090</td>\n",
       "      <td>1.317180</td>\n",
       "      <td>0.656918</td>\n",
       "      <td>1.172646</td>\n",
       "      <td>1.055883</td>\n",
       "      <td>2.526119</td>\n",
       "      <td>...</td>\n",
       "      <td>0.0</td>\n",
       "      <td>2.442642</td>\n",
       "      <td>1.00034</td>\n",
       "      <td>-1.143660</td>\n",
       "      <td>0.409803</td>\n",
       "      <td>0</td>\n",
       "      <td>-0.357275</td>\n",
       "      <td>0.0</td>\n",
       "      <td>Chi</td>\n",
       "      <td>2.442642</td>\n",
       "    </tr>\n",
       "    <tr>\n",
       "      <th>4</th>\n",
       "      <td>1.530441</td>\n",
       "      <td>1.809394</td>\n",
       "      <td>1.884794</td>\n",
       "      <td>41.00</td>\n",
       "      <td>2.198183</td>\n",
       "      <td>1.633487</td>\n",
       "      <td>1.852018</td>\n",
       "      <td>1.240448</td>\n",
       "      <td>1.055883</td>\n",
       "      <td>1.285202</td>\n",
       "      <td>...</td>\n",
       "      <td>0.0</td>\n",
       "      <td>2.213595</td>\n",
       "      <td>1.00034</td>\n",
       "      <td>0.553241</td>\n",
       "      <td>-0.540155</td>\n",
       "      <td>0</td>\n",
       "      <td>-0.713453</td>\n",
       "      <td>0.0</td>\n",
       "      <td>Ind</td>\n",
       "      <td>2.213595</td>\n",
       "    </tr>\n",
       "  </tbody>\n",
       "</table>\n",
       "<p>5 rows × 32 columns</p>\n",
       "</div>"
      ],
      "text/plain": [
       "   4GameAvg  7GameAvg  AvgPointsPerGame  Final  FloorAvg     Game0     Game1  \\\n",
       "0  2.996755  4.184127          3.965650  73.25  4.261886  3.781048  4.275414   \n",
       "1  2.772739  2.599979          2.683915  42.50  2.997321  1.733374  1.785623   \n",
       "2  2.446303  2.890421          2.257830  55.25  2.578318  2.582409  3.495280   \n",
       "3  1.861710  2.094040          2.193408  36.25  2.113090  1.317180  0.656918   \n",
       "4  1.530441  1.809394          1.884794  41.00  2.198183  1.633487  1.852018   \n",
       "\n",
       "     Game10     Game2     Game3    ...      RF    Salary   atHome       dvp  \\\n",
       "0  3.020246  1.708908  1.234895    ...     0.0  4.904900  1.00034  0.910483   \n",
       "1  2.223574  2.713562  2.811195    ...     0.0  3.129784 -0.99966  0.255539   \n",
       "2  1.647259  1.675420  2.341659    ...     0.0  2.671689  1.00034  0.910483   \n",
       "3  1.172646  1.055883  2.526119    ...     0.0  2.442642  1.00034 -1.143660   \n",
       "4  1.240448  1.055883  1.285202    ...     0.0  2.213595  1.00034  0.553241   \n",
       "\n",
       "     fvalue  injured      odds  penalty  teamAbbrev     value  \n",
       "0 -0.104460        0 -0.428510      0.0         OKC  4.904900  \n",
       "1 -0.125888        0  0.711259      0.0         Was  3.129784  \n",
       "2  0.216955        0 -0.855924      0.0         Min  2.671689  \n",
       "3  0.409803        0 -0.357275      0.0         Chi  2.442642  \n",
       "4 -0.540155        0 -0.713453      0.0         Ind  2.213595  \n",
       "\n",
       "[5 rows x 32 columns]"
      ]
     },
     "execution_count": 600,
     "metadata": {},
     "output_type": "execute_result"
    }
   ],
   "source": [
    "dfTrain.head()"
   ]
  },
  {
   "cell_type": "code",
   "execution_count": 601,
   "metadata": {
    "collapsed": false
   },
   "outputs": [],
   "source": [
    "#X_train[features] = scaler.fit_transform(X_train[features])\n",
    "\n"
   ]
  },
  {
   "cell_type": "code",
   "execution_count": 602,
   "metadata": {
    "collapsed": false,
    "scrolled": true
   },
   "outputs": [
    {
     "data": {
      "text/plain": [
       "[([46.5, 35.0, 21.0, 25.25, 29.0, 26.25, 27.0, 41.5, 30.0, 23.5], -2.5)]"
      ]
     },
     "execution_count": 602,
     "metadata": {},
     "output_type": "execute_result"
    }
   ],
   "source": [
    "dataX[-1:]"
   ]
  },
  {
   "cell_type": "code",
   "execution_count": 603,
   "metadata": {
    "collapsed": false
   },
   "outputs": [
    {
     "data": {
      "text/html": [
       "<div>\n",
       "<table border=\"1\" class=\"dataframe\">\n",
       "  <thead>\n",
       "    <tr style=\"text-align: right;\">\n",
       "      <th></th>\n",
       "      <th>4GameAvg</th>\n",
       "      <th>7GameAvg</th>\n",
       "      <th>AvgPointsPerGame</th>\n",
       "      <th>Final</th>\n",
       "      <th>FloorAvg</th>\n",
       "      <th>Game0</th>\n",
       "      <th>Game1</th>\n",
       "      <th>Game10</th>\n",
       "      <th>Game2</th>\n",
       "      <th>Game3</th>\n",
       "      <th>...</th>\n",
       "      <th>O/U</th>\n",
       "      <th>RF</th>\n",
       "      <th>Salary</th>\n",
       "      <th>atHome</th>\n",
       "      <th>dvp</th>\n",
       "      <th>fvalue</th>\n",
       "      <th>injured</th>\n",
       "      <th>odds</th>\n",
       "      <th>penalty</th>\n",
       "      <th>value</th>\n",
       "    </tr>\n",
       "  </thead>\n",
       "  <tbody>\n",
       "    <tr>\n",
       "      <th>count</th>\n",
       "      <td>300.000000</td>\n",
       "      <td>300.000000</td>\n",
       "      <td>300.000000</td>\n",
       "      <td>300.000000</td>\n",
       "      <td>300.000000</td>\n",
       "      <td>300.000000</td>\n",
       "      <td>300.000000</td>\n",
       "      <td>300.000000</td>\n",
       "      <td>300.000000</td>\n",
       "      <td>300.000000</td>\n",
       "      <td>...</td>\n",
       "      <td>300.000000</td>\n",
       "      <td>300.000000</td>\n",
       "      <td>300.000000</td>\n",
       "      <td>300.000000</td>\n",
       "      <td>300.000000</td>\n",
       "      <td>300.000000</td>\n",
       "      <td>300.000000</td>\n",
       "      <td>300.000000</td>\n",
       "      <td>300.0</td>\n",
       "      <td>300.000000</td>\n",
       "    </tr>\n",
       "    <tr>\n",
       "      <th>mean</th>\n",
       "      <td>-0.274660</td>\n",
       "      <td>-0.304468</td>\n",
       "      <td>-0.290675</td>\n",
       "      <td>14.068214</td>\n",
       "      <td>-0.323343</td>\n",
       "      <td>-0.223181</td>\n",
       "      <td>-0.226570</td>\n",
       "      <td>-0.257407</td>\n",
       "      <td>-0.249217</td>\n",
       "      <td>-0.203283</td>\n",
       "      <td>...</td>\n",
       "      <td>0.158339</td>\n",
       "      <td>14.041627</td>\n",
       "      <td>-0.342001</td>\n",
       "      <td>0.020340</td>\n",
       "      <td>-0.072132</td>\n",
       "      <td>-0.009821</td>\n",
       "      <td>0.140000</td>\n",
       "      <td>-0.002284</td>\n",
       "      <td>0.0</td>\n",
       "      <td>-0.342001</td>\n",
       "    </tr>\n",
       "    <tr>\n",
       "      <th>std</th>\n",
       "      <td>0.675780</td>\n",
       "      <td>0.668852</td>\n",
       "      <td>0.647743</td>\n",
       "      <td>9.662702</td>\n",
       "      <td>0.606105</td>\n",
       "      <td>0.689778</td>\n",
       "      <td>0.765041</td>\n",
       "      <td>0.755124</td>\n",
       "      <td>0.768002</td>\n",
       "      <td>0.730513</td>\n",
       "      <td>...</td>\n",
       "      <td>0.262659</td>\n",
       "      <td>7.917343</td>\n",
       "      <td>0.489413</td>\n",
       "      <td>1.001471</td>\n",
       "      <td>0.988979</td>\n",
       "      <td>1.063695</td>\n",
       "      <td>0.347567</td>\n",
       "      <td>0.905379</td>\n",
       "      <td>0.0</td>\n",
       "      <td>0.489413</td>\n",
       "    </tr>\n",
       "    <tr>\n",
       "      <th>min</th>\n",
       "      <td>-1.353549</td>\n",
       "      <td>-1.410584</td>\n",
       "      <td>-1.475929</td>\n",
       "      <td>-1.500000</td>\n",
       "      <td>-1.159111</td>\n",
       "      <td>-1.196631</td>\n",
       "      <td>-1.152330</td>\n",
       "      <td>-1.234319</td>\n",
       "      <td>-1.171099</td>\n",
       "      <td>-1.179862</td>\n",
       "      <td>...</td>\n",
       "      <td>-0.347922</td>\n",
       "      <td>0.000000</td>\n",
       "      <td>-0.706759</td>\n",
       "      <td>-0.999660</td>\n",
       "      <td>-1.709293</td>\n",
       "      <td>-1.411546</td>\n",
       "      <td>0.000000</td>\n",
       "      <td>-2.138165</td>\n",
       "      <td>0.0</td>\n",
       "      <td>-0.706759</td>\n",
       "    </tr>\n",
       "    <tr>\n",
       "      <th>25%</th>\n",
       "      <td>-0.843278</td>\n",
       "      <td>-0.821952</td>\n",
       "      <td>-0.774587</td>\n",
       "      <td>6.250000</td>\n",
       "      <td>-0.843492</td>\n",
       "      <td>-0.817895</td>\n",
       "      <td>-0.919949</td>\n",
       "      <td>-0.946161</td>\n",
       "      <td>-0.869703</td>\n",
       "      <td>-0.861248</td>\n",
       "      <td>...</td>\n",
       "      <td>-0.068188</td>\n",
       "      <td>7.640000</td>\n",
       "      <td>-0.706759</td>\n",
       "      <td>-0.999660</td>\n",
       "      <td>-0.875728</td>\n",
       "      <td>-0.841928</td>\n",
       "      <td>0.000000</td>\n",
       "      <td>-0.499746</td>\n",
       "      <td>0.0</td>\n",
       "      <td>-0.706759</td>\n",
       "    </tr>\n",
       "    <tr>\n",
       "      <th>50%</th>\n",
       "      <td>-0.289084</td>\n",
       "      <td>-0.325250</td>\n",
       "      <td>-0.332587</td>\n",
       "      <td>13.437500</td>\n",
       "      <td>-0.409578</td>\n",
       "      <td>-0.289328</td>\n",
       "      <td>-0.355597</td>\n",
       "      <td>-0.302044</td>\n",
       "      <td>-0.417609</td>\n",
       "      <td>-0.299482</td>\n",
       "      <td>...</td>\n",
       "      <td>0.159096</td>\n",
       "      <td>13.823000</td>\n",
       "      <td>-0.592235</td>\n",
       "      <td>1.000340</td>\n",
       "      <td>-0.086818</td>\n",
       "      <td>-0.118745</td>\n",
       "      <td>0.000000</td>\n",
       "      <td>-0.143568</td>\n",
       "      <td>0.0</td>\n",
       "      <td>-0.592235</td>\n",
       "    </tr>\n",
       "    <tr>\n",
       "      <th>75%</th>\n",
       "      <td>0.239505</td>\n",
       "      <td>0.180005</td>\n",
       "      <td>0.168020</td>\n",
       "      <td>19.766000</td>\n",
       "      <td>0.106274</td>\n",
       "      <td>0.151837</td>\n",
       "      <td>0.308347</td>\n",
       "      <td>0.312410</td>\n",
       "      <td>0.235416</td>\n",
       "      <td>0.379668</td>\n",
       "      <td>...</td>\n",
       "      <td>0.263997</td>\n",
       "      <td>19.980500</td>\n",
       "      <td>-0.134140</td>\n",
       "      <td>1.000340</td>\n",
       "      <td>0.709534</td>\n",
       "      <td>0.709790</td>\n",
       "      <td>0.000000</td>\n",
       "      <td>0.497552</td>\n",
       "      <td>0.0</td>\n",
       "      <td>-0.134140</td>\n",
       "    </tr>\n",
       "    <tr>\n",
       "      <th>max</th>\n",
       "      <td>1.394036</td>\n",
       "      <td>1.381056</td>\n",
       "      <td>1.363901</td>\n",
       "      <td>55.500000</td>\n",
       "      <td>1.429861</td>\n",
       "      <td>2.599057</td>\n",
       "      <td>2.416370</td>\n",
       "      <td>2.071020</td>\n",
       "      <td>2.378677</td>\n",
       "      <td>1.704431</td>\n",
       "      <td>...</td>\n",
       "      <td>0.561215</td>\n",
       "      <td>36.106000</td>\n",
       "      <td>1.011096</td>\n",
       "      <td>1.000340</td>\n",
       "      <td>1.744048</td>\n",
       "      <td>4.188210</td>\n",
       "      <td>1.000000</td>\n",
       "      <td>2.135972</td>\n",
       "      <td>0.0</td>\n",
       "      <td>1.011096</td>\n",
       "    </tr>\n",
       "  </tbody>\n",
       "</table>\n",
       "<p>8 rows × 28 columns</p>\n",
       "</div>"
      ],
      "text/plain": [
       "         4GameAvg    7GameAvg  AvgPointsPerGame       Final    FloorAvg  \\\n",
       "count  300.000000  300.000000        300.000000  300.000000  300.000000   \n",
       "mean    -0.274660   -0.304468         -0.290675   14.068214   -0.323343   \n",
       "std      0.675780    0.668852          0.647743    9.662702    0.606105   \n",
       "min     -1.353549   -1.410584         -1.475929   -1.500000   -1.159111   \n",
       "25%     -0.843278   -0.821952         -0.774587    6.250000   -0.843492   \n",
       "50%     -0.289084   -0.325250         -0.332587   13.437500   -0.409578   \n",
       "75%      0.239505    0.180005          0.168020   19.766000    0.106274   \n",
       "max      1.394036    1.381056          1.363901   55.500000    1.429861   \n",
       "\n",
       "            Game0       Game1      Game10       Game2       Game3     ...      \\\n",
       "count  300.000000  300.000000  300.000000  300.000000  300.000000     ...       \n",
       "mean    -0.223181   -0.226570   -0.257407   -0.249217   -0.203283     ...       \n",
       "std      0.689778    0.765041    0.755124    0.768002    0.730513     ...       \n",
       "min     -1.196631   -1.152330   -1.234319   -1.171099   -1.179862     ...       \n",
       "25%     -0.817895   -0.919949   -0.946161   -0.869703   -0.861248     ...       \n",
       "50%     -0.289328   -0.355597   -0.302044   -0.417609   -0.299482     ...       \n",
       "75%      0.151837    0.308347    0.312410    0.235416    0.379668     ...       \n",
       "max      2.599057    2.416370    2.071020    2.378677    1.704431     ...       \n",
       "\n",
       "              O/U          RF      Salary      atHome         dvp      fvalue  \\\n",
       "count  300.000000  300.000000  300.000000  300.000000  300.000000  300.000000   \n",
       "mean     0.158339   14.041627   -0.342001    0.020340   -0.072132   -0.009821   \n",
       "std      0.262659    7.917343    0.489413    1.001471    0.988979    1.063695   \n",
       "min     -0.347922    0.000000   -0.706759   -0.999660   -1.709293   -1.411546   \n",
       "25%     -0.068188    7.640000   -0.706759   -0.999660   -0.875728   -0.841928   \n",
       "50%      0.159096   13.823000   -0.592235    1.000340   -0.086818   -0.118745   \n",
       "75%      0.263997   19.980500   -0.134140    1.000340    0.709534    0.709790   \n",
       "max      0.561215   36.106000    1.011096    1.000340    1.744048    4.188210   \n",
       "\n",
       "          injured        odds  penalty       value  \n",
       "count  300.000000  300.000000    300.0  300.000000  \n",
       "mean     0.140000   -0.002284      0.0   -0.342001  \n",
       "std      0.347567    0.905379      0.0    0.489413  \n",
       "min      0.000000   -2.138165      0.0   -0.706759  \n",
       "25%      0.000000   -0.499746      0.0   -0.706759  \n",
       "50%      0.000000   -0.143568      0.0   -0.592235  \n",
       "75%      0.000000    0.497552      0.0   -0.134140  \n",
       "max      1.000000    2.135972      0.0    1.011096  \n",
       "\n",
       "[8 rows x 28 columns]"
      ]
     },
     "execution_count": 603,
     "metadata": {},
     "output_type": "execute_result"
    }
   ],
   "source": [
    "df_test.describe()"
   ]
  },
  {
   "cell_type": "code",
   "execution_count": 622,
   "metadata": {
    "collapsed": false,
    "scrolled": true
   },
   "outputs": [
    {
     "name": "stdout",
     "output_type": "stream",
     "text": [
      "10\n"
     ]
    },
    {
     "data": {
      "text/plain": [
       "array([[[3.0202458985588412, 3.9642355125021829, 3.9843099978361507,\n",
       "         3.5784778576584211, 3.8568682203431432, 2.9679541794040043,\n",
       "         3.1456028688261157, 1.2348949508322926, 1.7089080849492588,\n",
       "         4.275413972498475]],\n",
       "\n",
       "       [[2.2235744400767921, 2.1396867290232446, 2.36020522247517,\n",
       "         3.9689299781754865, 1.3252411732223233, 2.3272064782332915,\n",
       "         2.3064270868768233, 2.8111947762907366, 2.7135616003009293,\n",
       "         1.7856231903116739]],\n",
       "\n",
       "       [[1.6472589169195646, 4.2882208105031152, 1.3515506777772974,\n",
       "         2.4920023918718037, 1.5108938233445168, 1.1974671103796664,\n",
       "         0.96374583575795503, 2.3416586580690724, 1.6754196344375365,\n",
       "         3.4952795274132771]]], dtype=object)"
      ]
     },
     "execution_count": 622,
     "metadata": {},
     "output_type": "execute_result"
    }
   ],
   "source": [
    "print(X_train.shape[1])\n",
    "_trainX = numpy.reshape(X_train, (X_train.shape[0], 1 ,10))\n",
    "_trainX[:3]"
   ]
  },
  {
   "cell_type": "code",
   "execution_count": 648,
   "metadata": {
    "collapsed": false
   },
   "outputs": [
    {
     "name": "stdout",
     "output_type": "stream",
     "text": [
      "Epoch 1/10\n",
      "65s - loss: 235.9812\n",
      "Epoch 2/10\n",
      "64s - loss: 95.9321\n",
      "Epoch 3/10\n",
      "63s - loss: 79.1505\n",
      "Epoch 4/10\n",
      "64s - loss: 72.5000\n",
      "Epoch 5/10\n",
      "66s - loss: 69.2088\n",
      "Epoch 6/10\n",
      "64s - loss: 67.4185\n",
      "Epoch 7/10\n",
      "63s - loss: 66.3411\n",
      "Epoch 8/10\n",
      "66s - loss: 65.6448\n",
      "Epoch 9/10\n",
      "69s - loss: 65.2293\n",
      "Epoch 10/10\n",
      "96s - loss: 64.9331\n"
     ]
    },
    {
     "data": {
      "text/plain": [
       "<keras.callbacks.History at 0x143b95e48>"
      ]
     },
     "execution_count": 648,
     "metadata": {},
     "output_type": "execute_result"
    }
   ],
   "source": [
    "import numpy\n",
    "import matplotlib.pyplot as plt\n",
    "import pandas\n",
    "import math\n",
    "from keras.models import Sequential\n",
    "from keras.layers import Dense\n",
    "from keras.layers import LSTM\n",
    "from sklearn.preprocessing import MinMaxScaler\n",
    "from sklearn.metrics import mean_squared_error\n",
    "# create and fit the LSTM network\n",
    "trainX2 = numpy.reshape(X_train, (X_train.shape[0],1,X_train.shape[1]))\n",
    "testX2 = numpy.reshape(X_test, (X_test.shape[0],1, X_test.shape[1]))\n",
    "trainY2 = y_train\n",
    "testY2 = y_test\n",
    "\n",
    "features = [\"Game10\",\"Game9\",\"Game8\",\"Game7\",\"Game6\",\"Game5\",\"Game4\",\"Game3\",\"Game2\",\"Game1\"]\n",
    "batch_size = 1\n",
    "look_back = len(features)\n",
    "model2 = Sequential()\n",
    "model2.add(LSTM(6, batch_input_shape=(batch_size, 1, look_back)))\n",
    "model2.add(Dense(1))\n",
    "model2.compile(loss='mean_squared_error', optimizer='adam')\n",
    "model2.fit(trainX2, y_train, nb_epoch=10, batch_size=batch_size, verbose=2)\n",
    "# make predictions"
   ]
  },
  {
   "cell_type": "code",
   "execution_count": 651,
   "metadata": {
    "collapsed": false
   },
   "outputs": [],
   "source": [
    "trainPredict_ = model2.predict(trainX2, batch_size=batch_size)\n",
    "testPredict_ = model2.predict(testX2  , batch_size=batch_size)"
   ]
  },
  {
   "cell_type": "code",
   "execution_count": 653,
   "metadata": {
    "collapsed": false
   },
   "outputs": [
    {
     "name": "stdout",
     "output_type": "stream",
     "text": [
      "\n",
      "accuracy 0.815305285363\n",
      "\n",
      "accuracy 0.843333333333\n"
     ]
    }
   ],
   "source": [
    "print (\"\\naccuracy\", np.sum(abs(trainPredict_.T-y_train)<10) / float(len(y_train)))\n",
    "print (\"\\naccuracy\", np.sum(abs(testPredict_.T-y_test)<10) / float(len(y_test)))"
   ]
  },
  {
   "cell_type": "code",
   "execution_count": 605,
   "metadata": {
    "collapsed": false
   },
   "outputs": [
    {
     "name": "stdout",
     "output_type": "stream",
     "text": [
      "Epoch 1/5\n",
      "210s - loss: 222.3277\n",
      "Epoch 2/5\n",
      "202s - loss: 100.9563\n",
      "Epoch 3/5\n",
      "207s - loss: 81.3694\n",
      "Epoch 4/5\n",
      "224s - loss: 75.5729\n",
      "Epoch 5/5\n",
      "214s - loss: 73.1969\n"
     ]
    },
    {
     "data": {
      "text/plain": [
       "<keras.callbacks.History at 0x136cfb7b8>"
      ]
     },
     "execution_count": 605,
     "metadata": {},
     "output_type": "execute_result"
    }
   ],
   "source": [
    "import numpy\n",
    "import matplotlib.pyplot as plt\n",
    "import pandas\n",
    "import math\n",
    "from keras.models import Sequential\n",
    "from keras.layers import Dense\n",
    "from keras.layers import LSTM\n",
    "from sklearn.preprocessing import MinMaxScaler\n",
    "from sklearn.metrics import mean_squared_error\n",
    "# create and fit the LSTM network\n",
    "trainX = numpy.reshape(X_train, (X_train.shape[0], X_train.shape[1],1))\n",
    "testX = numpy.reshape(X_test, (X_test.shape[0], X_test.shape[1],1))\n",
    "trainY = y_train\n",
    "testY = y_test\n",
    "\n",
    "features = [\"Game10\",\"Game9\",\"Game8\",\"Game7\",\"Game6\",\"Game5\",\"Game4\",\"Game3\",\"Game2\",\"Game1\"]\n",
    "batch_size = 1\n",
    "look_back = len(features)\n",
    "model = Sequential()\n",
    "model.add(LSTM(4, batch_input_shape=(batch_size, look_back, 1), stateful=True))\n",
    "model.add(Dense(1))\n",
    "model.compile(loss='mean_squared_error', optimizer='adam')\n",
    "model.fit(X_train_, trainY, nb_epoch=3, batch_size=batch_size, verbose=2)\n",
    "# make predictions"
   ]
  },
  {
   "cell_type": "code",
   "execution_count": 606,
   "metadata": {
    "collapsed": false,
    "scrolled": true
   },
   "outputs": [],
   "source": [
    "# make predictions\n",
    "trainPredict = model.predict(trainX, batch_size=batch_size)"
   ]
  },
  {
   "cell_type": "code",
   "execution_count": 607,
   "metadata": {
    "collapsed": false
   },
   "outputs": [
    {
     "name": "stderr",
     "output_type": "stream",
     "text": [
      "/Users/marek5050/anaconda/lib/python3.5/site-packages/ipykernel/__main__.py:1: VisibleDeprecationWarning: using a non-integer number instead of an integer will result in an error in the future\n",
      "  if __name__ == '__main__':\n"
     ]
    },
    {
     "ename": "IndexError",
     "evalue": "only integers, slices (`:`), ellipsis (`...`), numpy.newaxis (`None`) and integer or boolean arrays are valid indices",
     "output_type": "error",
     "traceback": [
      "\u001b[0;31m---------------------------------------------------------------------------\u001b[0m",
      "\u001b[0;31mIndexError\u001b[0m                                Traceback (most recent call last)",
      "\u001b[0;32m<ipython-input-607-a0a16562118d>\u001b[0m in \u001b[0;36m<module>\u001b[0;34m()\u001b[0m\n\u001b[0;32m----> 1\u001b[0;31m \u001b[0mtestPredict\u001b[0m \u001b[0;34m=\u001b[0m \u001b[0mmodel\u001b[0m\u001b[0;34m.\u001b[0m\u001b[0mpredict\u001b[0m\u001b[0;34m(\u001b[0m\u001b[0mtestX\u001b[0m\u001b[0;34m[\u001b[0m\u001b[0mfeatures\u001b[0m\u001b[0;34m]\u001b[0m\u001b[0;34m,\u001b[0m\u001b[0mbatch_size\u001b[0m\u001b[0;34m=\u001b[0m\u001b[0mbatch_size\u001b[0m\u001b[0;34m)\u001b[0m\u001b[0;34m\u001b[0m\u001b[0m\n\u001b[0m",
      "\u001b[0;31mIndexError\u001b[0m: only integers, slices (`:`), ellipsis (`...`), numpy.newaxis (`None`) and integer or boolean arrays are valid indices"
     ]
    }
   ],
   "source": [
    "testPredict = model.predict(testX[features],batch_size=batch_size)"
   ]
  },
  {
   "cell_type": "code",
   "execution_count": 638,
   "metadata": {
    "collapsed": false
   },
   "outputs": [
    {
     "name": "stdout",
     "output_type": "stream",
     "text": [
      "8533\n",
      "300\n",
      "8533\n",
      "300\n",
      "\n",
      "accuracy 0.578928864409\n",
      "\n",
      "accuracy 0.613333333333\n"
     ]
    }
   ],
   "source": [
    "# print(trainPredict[:5])\n",
    "# print(testPredict[:5])\n",
    "# print(y_test[:5])\n",
    "# print(y_train[:5])\n",
    "# print(y_test.values)\n",
    "print(len(trainPredict))\n",
    "print(len(testPredict))\n",
    "print(len(y_train))\n",
    "print(len(y_test))\n",
    "# print((testPredict.T-y_test.values))\n",
    "print (\"\\naccuracy\", np.sum(abs(trainPredict.T-y_train)<5) / float(len(y_train)))\n",
    "print (\"\\naccuracy\", np.sum(abs(testPredict.T-y_test)<5) / float(len(y_test)))"
   ]
  },
  {
   "cell_type": "code",
   "execution_count": null,
   "metadata": {
    "collapsed": false
   },
   "outputs": [],
   "source": [
    "from sklearn.ensemble import RandomForestRegressor\n",
    "\n",
    "modelRFR = RandomForestRegressor(n_estimators=20,\n",
    "#                               random_state=1,\n",
    "                              verbose=False,\n",
    "                              warm_start=True)\n",
    "modelRFR = modelRFR.fit(X_train, y_train)\n",
    "\n",
    "yRF_prediction = modelRFR.predict(X_test)\n",
    "print (modelRFR.score(  X_train , y_train ) , modelRFR.score(  X_test , y_test  ))\n",
    "print (\"\\naccuracy\", np.sum(abs(yRF_prediction-y_test)<5) / float(len(y_test)))\n",
    "#51.8 at 120"
   ]
  },
  {
   "cell_type": "code",
   "execution_count": null,
   "metadata": {
    "collapsed": false
   },
   "outputs": [],
   "source": [
    "from sklearn.svm import SVR\n",
    "svr_rbf = SVR(kernel='rbf', C=1e3, gamma=0.1)\n",
    "svr_rbf.fit( X_train , y_train )\n",
    "print (svr_rbf.score(  X_train , y_train ) , svr_rbf.score(  X_test , y_test  ))\n",
    "SVR_prediction = svr_rbf.predict(X_test)\n",
    "print (\"\\naccuracy\", np.sum(abs(SVR_prediction-y_test)<5) / float(len(y_test)))"
   ]
  },
  {
   "cell_type": "code",
   "execution_count": null,
   "metadata": {
    "collapsed": false
   },
   "outputs": [],
   "source": [
    "#74 63\n",
    "from sklearn.tree import DecisionTreeRegressor\n",
    "regr = DecisionTreeRegressor(max_depth=5)\n",
    "regr.fit( X_train , y_train )\n",
    "print (regr.score(  X_train , y_train ) , regr.score(  X_test , y_test  ))\n",
    "DTR_prediction = regr.predict(X_test)\n",
    "print (\"\\naccuracy\", np.sum(abs(DTR_prediction-y_test)<5) / float(len(y_test)))"
   ]
  },
  {
   "cell_type": "code",
   "execution_count": null,
   "metadata": {
    "collapsed": false
   },
   "outputs": [],
   "source": [
    "#70 63\n",
    "from sklearn.neighbors import KNeighborsRegressor\n",
    "knr = KNeighborsRegressor(n_neighbors=7)\n",
    "knr.fit( X_train , y_train )\n",
    "print (knr.score(  X_train , y_train ) , knr.score(  X_test , y_test  ))\n",
    "KNR_prediction = knr.predict(X_test)\n",
    "print (\"\\naccuracy\", np.sum(abs(KNR_prediction-y_test)<5) / float(len(y_test)))"
   ]
  },
  {
   "cell_type": "code",
   "execution_count": null,
   "metadata": {
    "collapsed": false
   },
   "outputs": [],
   "source": [
    "#74 64\n",
    "from sklearn.neural_network import MLPRegressor\n",
    "mlp = MLPRegressor()\n",
    "mlp.fit( X_train , y_train )\n",
    "print (mlp.score(  X_train , y_train ) , mlp.score(  X_test , y_test  ))\n",
    "mlp_prediction = mlp.predict(X_test)\n",
    "print (\"\\naccuracy\", np.sum(abs(mlp_prediction-y_test)<5) / float(len(y_test)))"
   ]
  },
  {
   "cell_type": "code",
   "execution_count": null,
   "metadata": {
    "collapsed": false
   },
   "outputs": [],
   "source": [
    "from sklearn.neural_network import MLPRegressor\n",
    "mlp = MLPRegressor\\\n",
    "    (activation='identity',solver='adam', learning_rate='adaptive', hidden_layer_sizes=(3, 6))\n",
    "mlp.fit( X_train , y_train )\n",
    "print (mlp.score(  X_train , y_train ) , mlp.score(  X_test , y_test  ))\n",
    "mlp_prediction = mlp.predict(X_test)\n",
    "print (\"\\naccuracy\", np.sum(abs(mlp_prediction-y_test)<5) / float(len(y_test)))"
   ]
  },
  {
   "cell_type": "code",
   "execution_count": null,
   "metadata": {
    "collapsed": false
   },
   "outputs": [],
   "source": [
    "# 0.3911\n",
    "#y_tree_prediction\n",
    "#pd.concat([dfTest[\"Name\"],pd.DataFrame(y_tree_prediction),pd.DataFrame(y_test)],axis=1)"
   ]
  },
  {
   "cell_type": "code",
   "execution_count": null,
   "metadata": {
    "collapsed": false
   },
   "outputs": [],
   "source": [
    "from keras.models import Sequential\n",
    "from keras.layers import Dense, Activation\n",
    "\n",
    "start = time()\n",
    "\n",
    "model = Sequential()\n",
    "model.add(Dense(16, input_dim=len(features), init='normal', activation='relu'))\n",
    "model.add(Dense(8, activation='relu'))\n",
    "model.add(Dense(1, init='normal', activation='relu'))\n",
    "          \n",
    "model.compile(optimizer='adam', metrics=['accuracy','recall','fmeasure'],loss=\"mae\")\n",
    "# MAE 58.23%<5 16-8-1 50 Adam MAE\n",
    "# MAE 55.69%<5 16-8-1  50 epoch SGD  MAE\n",
    "# MSE 81% \n",
    "# MAPE 35% \n",
    "# MSLE 53% \n",
    "# HINGE 34% \n",
    "# SGD MSE 150 70% \n",
    "model.fit(X_train, y_train,\n",
    "          validation_data=(X_test,y_test),\n",
    "          verbose=False,\n",
    "          nb_epoch=10, batch_size=10)\n",
    "\n",
    "print ('\\ntime taken %s seconds' % str(time() - start))\n",
    "model.evaluate(X_test,y_test)\n",
    "y_predict = model.predict(X_test)\n",
    "print (\"\\naccuracy\", np.sum(abs(y_predict.T[0]-y_test)<5) / float(len(y_test)))\n",
    "print(y_predict[:5])\n",
    "#19% 3 layer"
   ]
  },
  {
   "cell_type": "code",
   "execution_count": null,
   "metadata": {
    "collapsed": false
   },
   "outputs": [],
   "source": [
    "from keras.models import Sequential\n",
    "from keras.layers import Dense, Activation\n",
    "\n",
    "start = time()\n",
    "\n",
    "model = Sequential()\n",
    "model.add(Dense(8, input_dim=len(features), init='normal', activation='relu'))\n",
    "model.add(Dense(4, activation='relu'))\n",
    "model.add(Dense(1, init='normal', activation='relu'))\n",
    "          \n",
    "model.compile(optimizer='adam', metrics=['accuracy','recall','fmeasure'],loss=\"mse\")\n",
    "# MAE 58.23%<5 16-8-1 50 Adam MAE\n",
    "# MAE 55.69%<5 16-8-1  50 epoch SGD  MAE\n",
    "# MSE 81% \n",
    "# MAPE 35% \n",
    "# MSLE 53% \n",
    "# HINGE 34% \n",
    "# SGD MSE 150 70% \n",
    "model.fit(X_train, y_train,\n",
    "          validation_data=(X_test,y_test),\n",
    "          verbose=False,\n",
    "          nb_epoch=10, batch_size=10)\n",
    "\n",
    "print ('\\ntime taken %s seconds' % str(time() - start))\n",
    "model.evaluate(X_test,y_test)\n",
    "y_predict = model.predict(X_test)\n",
    "print (\"\\naccuracy\", np.sum(abs(y_predict.T[0]-y_test)<5) / float(len(y_test)))\n",
    "print(y_predict[:5])\n",
    "#19% 3 layer"
   ]
  },
  {
   "cell_type": "code",
   "execution_count": null,
   "metadata": {
    "collapsed": false
   },
   "outputs": [],
   "source": []
  },
  {
   "cell_type": "code",
   "execution_count": null,
   "metadata": {
    "collapsed": false
   },
   "outputs": [],
   "source": [
    "kk = pd.DataFrame.from_dict(data= {\"NN\":y_predict.T[0] ,\"RF\":yRF_prediction})\n",
    "kk.head()"
   ]
  },
  {
   "cell_type": "code",
   "execution_count": null,
   "metadata": {
    "collapsed": false,
    "scrolled": true
   },
   "outputs": [],
   "source": [
    "X_test"
   ]
  },
  {
   "cell_type": "code",
   "execution_count": null,
   "metadata": {
    "collapsed": false
   },
   "outputs": [],
   "source": [
    "# df_test[\"NN\"] = kk[\"NN\"]\n",
    "# df_test[\"RF\"] = kk[\"RF\"]\n",
    "df_test[[\"NN\",\"RF\"]] = None\n",
    "df_test[[\"NN\", \"RF\"]] = kk\n",
    "df_test.head()"
   ]
  },
  {
   "cell_type": "code",
   "execution_count": null,
   "metadata": {
    "collapsed": false
   },
   "outputs": [],
   "source": [
    "output = pd.concat([df_test,\n",
    "            pd.DataFrame(y_predict.T[0],columns=[\"RF\"]),\n",
    "            pd.DataFrame(yRF_prediction,columns=[\"NN\"])]\n",
    "          ,axis=1)\n",
    "#output.to_csv('data/output/2017-01-24.csv', sep=',', encoding='utf-8', index=False, float_format='%.3f')"
   ]
  },
  {
   "cell_type": "code",
   "execution_count": null,
   "metadata": {
    "collapsed": false
   },
   "outputs": [],
   "source": [
    "output.head()"
   ]
  },
  {
   "cell_type": "code",
   "execution_count": null,
   "metadata": {
    "collapsed": false
   },
   "outputs": [],
   "source": [
    "output.loc[:,(\"Name\",\"NN\",\"RF\",\"AvgPointsPerGame\",\"Final\",\"O/U\",\"odds\",\"dvp\")].sort_values(by=[\"O/U\",\"NN\",\"dvp\"], ascending=False).head(10)"
   ]
  },
  {
   "cell_type": "markdown",
   "metadata": {
    "collapsed": true
   },
   "source": [
    "##  Predictions for Today!!!"
   ]
  },
  {
   "cell_type": "code",
   "execution_count": null,
   "metadata": {
    "collapsed": false
   },
   "outputs": [],
   "source": [
    "scaler1 = StandardScaler()\n",
    "features = ['Salary','AvgPointsPerGame','7GameAvg','FloorAvg'\n",
    "            ,'4GameAvg','value','fvalue','atHome','LastGame','O/U','odds',\"dvp\"]\n",
    "\n",
    "X_predict = scaler1.fit_transform(dfPredict[features].values)\n",
    "y_tree_prediction = modelRFR.predict(X_predict) ## Random Forest\n",
    "y_predict = model.predict(X_predict) ## Neural Networks prediction"
   ]
  },
  {
   "cell_type": "code",
   "execution_count": null,
   "metadata": {
    "collapsed": true
   },
   "outputs": [],
   "source": [
    "output = pd.concat([dfPredict,\n",
    "            pd.DataFrame(y_predict,columns=[\"NN\"]),\n",
    "            pd.DataFrame(y_tree_prediction,columns=[\"RF\"])]\n",
    "          ,axis=1)"
   ]
  },
  {
   "cell_type": "code",
   "execution_count": null,
   "metadata": {
    "collapsed": false
   },
   "outputs": [],
   "source": [
    "#y_predict\n",
    "#output.loc[:,\"NN\"].head()\n",
    "#print(out_file)"
   ]
  },
  {
   "cell_type": "code",
   "execution_count": null,
   "metadata": {
    "collapsed": true
   },
   "outputs": [],
   "source": [
    "output.to_csv(predict_file, sep=',', encoding='utf-8', index=False, float_format='%.3f')\n",
    "withoutInjuries = output[(output[\"injured\"]==0)]\n",
    "withoutInjuries.head()\n",
    "withoutInjuries.to_csv(out_file, sep=',', encoding='utf-8', index=False, float_format='%.3f')"
   ]
  },
  {
   "cell_type": "code",
   "execution_count": null,
   "metadata": {
    "collapsed": true
   },
   "outputs": [],
   "source": [
    "from sklearn.metrics import mean_squared_error\n",
    "rms = np.sqrt(mean_squared_error(y_test, y_predict))"
   ]
  },
  {
   "cell_type": "code",
   "execution_count": null,
   "metadata": {
    "collapsed": false
   },
   "outputs": [],
   "source": [
    "print(rms)"
   ]
  },
  {
   "cell_type": "code",
   "execution_count": null,
   "metadata": {
    "collapsed": false
   },
   "outputs": [],
   "source": [
    "import pandas as pd \n",
    "import numpy as np\n",
    "predicted_file = 'data/final/2017-01-28.csv'\n",
    "print(\"Predict file \" + predicted_file)\n",
    "dfPredicted = pd.read_csv(predicted_file, header=0)\n",
    "dfPredicted[\"ErrorNN\"] = dfPredicted[\"NN\"].T-dfPredicted[\"Final\"]\n",
    "dfPredicted[\"ErrorRF\"] = dfPredicted[\"RF\"].T-dfPredicted[\"Final\"]\n",
    "#rmsNN = np.sqrt(mean_squared_error(dfPredicted[\"Final\"], dfPredicted[\"NN\"]))\n",
    "#rmsRF = np.sqrt(mean_squared_error(dfPredicted[\"Final\"], dfPredicted[\"RF\"]))\n",
    "dfPredicted.iloc[:,-3:].describe()\n",
    "print(np.sum(abs(dfPredicted[\"NN\"].T-dfPredicted[\"Final\"]) < 5)/float(len(dfPredicted[\"Final\"])))\n",
    "print(np.sum(abs(dfPredicted[\"RF\"].T-dfPredicted[\"Final\"]) < 5)/float(len(dfPredicted[\"Final\"])))\n",
    "dfPredictedFiltered = dfPredicted[(abs(dfPredicted[\"ErrorNN\"]) < 5)]\n",
    "print(\"Len NN > 5 \" + str(len(dfPredictedFiltered)))\n",
    "dfPredictedFiltered = dfPredicted[(abs(dfPredicted[\"ErrorNN\"]) > 5)]\n",
    "print(\"Len NN < 5 \" + str(len(dfPredictedFiltered)))\n",
    "dfPredictedFiltered = dfPredicted[(abs(dfPredicted[\"ErrorRF\"]) < 5)]\n",
    "print(\"Len RF > 5 \" + str(len(dfPredictedFiltered)))\n",
    "dfPredictedFiltered = dfPredicted[(abs(dfPredicted[\"ErrorRF\"]) > 5)]\n",
    "print(\"Len RF < 5 \" + str(len(dfPredictedFiltered)))\n",
    "\n",
    "dfPredictedFiltered.loc[:,(\"Name\",\"NN\",\"RF\",\"Final\",\"ErrorNN\",\"ErrorRF\")]"
   ]
  },
  {
   "cell_type": "code",
   "execution_count": null,
   "metadata": {
    "collapsed": true
   },
   "outputs": [],
   "source": [
    "[1,2,5,2,9,10,13,99]\n",
    "smallest = 1\n",
    "diff. = 2"
   ]
  },
  {
   "cell_type": "code",
   "execution_count": 314,
   "metadata": {
    "collapsed": false
   },
   "outputs": [],
   "source": [
    "k=np.arange(20).reshape((5,1,4))\n",
    "mm = np.array(1)\n",
    "pp = []\n",
    "for i in range(len(k)): \n",
    "        pp.append([k[i],i])\n",
    "nn = np.array(pp)"
   ]
  },
  {
   "cell_type": "code",
   "execution_count": 315,
   "metadata": {
    "collapsed": false
   },
   "outputs": [
    {
     "data": {
      "text/plain": [
       "array([[array([[0, 1, 2, 3]]), 0],\n",
       "       [array([[4, 5, 6, 7]]), 1],\n",
       "       [array([[ 8,  9, 10, 11]]), 2],\n",
       "       [array([[12, 13, 14, 15]]), 3],\n",
       "       [array([[16, 17, 18, 19]]), 4]], dtype=object)"
      ]
     },
     "execution_count": 315,
     "metadata": {},
     "output_type": "execute_result"
    }
   ],
   "source": [
    "nn"
   ]
  },
  {
   "cell_type": "code",
   "execution_count": 318,
   "metadata": {
    "collapsed": false
   },
   "outputs": [
    {
     "ename": "TypeError",
     "evalue": "list() takes at most 1 argument (3 given)",
     "output_type": "error",
     "traceback": [
      "\u001b[0;31m---------------------------------------------------------------------------\u001b[0m",
      "\u001b[0;31mTypeError\u001b[0m                                 Traceback (most recent call last)",
      "\u001b[0;32m<ipython-input-318-ee0a04d7b913>\u001b[0m in \u001b[0;36m<module>\u001b[0;34m()\u001b[0m\n\u001b[0;32m----> 1\u001b[0;31m \u001b[0;32mclass\u001b[0m \u001b[0mLarray\u001b[0m\u001b[0;34m(\u001b[0m\u001b[0;34m[\u001b[0m\u001b[0;34m]\u001b[0m\u001b[0;34m)\u001b[0m\u001b[0;34m:\u001b[0m\u001b[0;34m\u001b[0m\u001b[0m\n\u001b[0m\u001b[1;32m      2\u001b[0m     \u001b[0;32mdef\u001b[0m \u001b[0m__repr__\u001b[0m\u001b[0;34m(\u001b[0m\u001b[0mself\u001b[0m\u001b[0;34m)\u001b[0m\u001b[0;34m:\u001b[0m\u001b[0;34m\u001b[0m\u001b[0m\n\u001b[1;32m      3\u001b[0m         \u001b[0msuper\u001b[0m\u001b[0;34m(\u001b[0m\u001b[0;34m)\u001b[0m\u001b[0;34m.\u001b[0m\u001b[0m__repr__\u001b[0m\u001b[0;34m(\u001b[0m\u001b[0mself\u001b[0m\u001b[0;34m)\u001b[0m\u001b[0;34m\u001b[0m\u001b[0m\n\u001b[1;32m      4\u001b[0m         \u001b[0mprint\u001b[0m\u001b[0;34m(\u001b[0m\u001b[0;34m\"stuff\"\u001b[0m\u001b[0;34m)\u001b[0m\u001b[0;34m\u001b[0m\u001b[0m\n\u001b[1;32m      5\u001b[0m         \u001b[0;32mreturn\u001b[0m\u001b[0;34m\u001b[0m\u001b[0m\n",
      "\u001b[0;31mTypeError\u001b[0m: list() takes at most 1 argument (3 given)"
     ]
    }
   ],
   "source": []
  },
  {
   "cell_type": "code",
   "execution_count": 365,
   "metadata": {
    "collapsed": true
   },
   "outputs": [],
   "source": [
    "class B():\n",
    "    def lum(self):\n",
    "        print(\"Lum!\")"
   ]
  },
  {
   "cell_type": "code",
   "execution_count": 366,
   "metadata": {
    "collapsed": false
   },
   "outputs": [
    {
     "data": {
      "text/plain": [
       "<function __main__.B.lum>"
      ]
     },
     "execution_count": 366,
     "metadata": {},
     "output_type": "execute_result"
    }
   ],
   "source": [
    "B.lum"
   ]
  },
  {
   "cell_type": "code",
   "execution_count": 368,
   "metadata": {
    "collapsed": false
   },
   "outputs": [
    {
     "name": "stdout",
     "output_type": "stream",
     "text": [
      "Lum!\n"
     ]
    }
   ],
   "source": [
    "B.lum(B())"
   ]
  },
  {
   "cell_type": "code",
   "execution_count": null,
   "metadata": {
    "collapsed": true
   },
   "outputs": [],
   "source": []
  }
 ],
 "metadata": {
  "anaconda-cloud": {},
  "kernelspec": {
   "display_name": "Python [conda root]",
   "language": "python",
   "name": "conda-root-py"
  },
  "language_info": {
   "codemirror_mode": {
    "name": "ipython",
    "version": 3
   },
   "file_extension": ".py",
   "mimetype": "text/x-python",
   "name": "python",
   "nbconvert_exporter": "python",
   "pygments_lexer": "ipython3",
   "version": "3.5.2"
  }
 },
 "nbformat": 4,
 "nbformat_minor": 0
}
