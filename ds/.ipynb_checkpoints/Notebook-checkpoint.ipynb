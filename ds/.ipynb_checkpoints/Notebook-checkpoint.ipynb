{
 "cells": [
  {
   "cell_type": "code",
   "execution_count": 1,
   "metadata": {
    "collapsed": false
   },
   "outputs": [
    {
     "name": "stdout",
     "output_type": "stream",
     "text": [
      "Failed to load GoldStats.\n"
     ]
    },
    {
     "name": "stderr",
     "output_type": "stream",
     "text": [
      "/Users/marek5050/machinelearning/NBA/calculate.py:167: SettingWithCopyWarning: \n",
      "A value is trying to be set on a copy of a slice from a DataFrame\n",
      "\n",
      "See the caveats in the documentation: http://pandas.pydata.org/pandas-docs/stable/indexing.html#indexing-view-versus-copy\n",
      "  p.Bonus[p.Bonus < 2] = 0.0\n"
     ]
    },
    {
     "data": {
      "text/plain": [
       "37.07954545454545"
      ]
     },
     "execution_count": 1,
     "metadata": {},
     "output_type": "execute_result"
    }
   ],
   "source": [
    "from calculate import Player\n",
    "from nba_py import player as players\n",
    "from nba_py.player import get_player\n",
    "        \n",
    "p = Player(\"Stephen Curry\")\n",
    "pid = get_player(\"Stephen\",\"Curry\")\n",
    "p.getFloorAverage()"
   ]
  },
  {
   "cell_type": "code",
   "execution_count": 2,
   "metadata": {
    "collapsed": true
   },
   "outputs": [],
   "source": [
    "res = players"
   ]
  },
  {
   "cell_type": "code",
   "execution_count": 4,
   "metadata": {
    "collapsed": false
   },
   "outputs": [
    {
     "data": {
      "text/plain": [
       "<module 'nba_py.player' from '/Users/marek5050/anaconda/lib/python3.5/site-packages/nba_py/player.py'>"
      ]
     },
     "execution_count": 4,
     "metadata": {},
     "output_type": "execute_result"
    }
   ],
   "source": [
    "players"
   ]
  },
  {
   "cell_type": "code",
   "execution_count": 10,
   "metadata": {
    "collapsed": false
   },
   "outputs": [
    {
     "data": {
      "text/plain": [
       "['AheadBehind',\n",
       " 'CURRENT_SEASON',\n",
       " 'ClutchTime',\n",
       " 'College',\n",
       " 'Conference',\n",
       " 'ContextMeasure',\n",
       " 'Counter',\n",
       " 'Country',\n",
       " 'DateFrom',\n",
       " 'DateTo',\n",
       " 'Direction',\n",
       " 'Division',\n",
       " 'DraftPick',\n",
       " 'DraftYear',\n",
       " 'EndPeriod',\n",
       " 'EndRange',\n",
       " 'GameID',\n",
       " 'GameScope',\n",
       " 'GameSegment',\n",
       " 'Game_Scope',\n",
       " 'GroupQuantity',\n",
       " 'HAS_PANDAS',\n",
       " 'Height',\n",
       " 'LastNGames',\n",
       " 'League',\n",
       " 'Location',\n",
       " 'MeasureType',\n",
       " 'Month',\n",
       " 'OpponentTeamID',\n",
       " 'Outcome',\n",
       " 'PaceAdjust',\n",
       " 'PerMode',\n",
       " 'Period',\n",
       " 'PlayerCareer',\n",
       " 'PlayerClutchSplits',\n",
       " 'PlayerDefenseTracking',\n",
       " 'PlayerExperience',\n",
       " 'PlayerGameLogs',\n",
       " 'PlayerGeneralSplits',\n",
       " 'PlayerInGameSplits',\n",
       " 'PlayerLastNGamesSplits',\n",
       " 'PlayerList',\n",
       " 'PlayerNotFoundException',\n",
       " 'PlayerOpponentSplits',\n",
       " 'PlayerOrTeam',\n",
       " 'PlayerPassTracking',\n",
       " 'PlayerPerformanceSplits',\n",
       " 'PlayerPosition',\n",
       " 'PlayerProfile',\n",
       " 'PlayerReboundLogTracking',\n",
       " 'PlayerReboundTracking',\n",
       " 'PlayerScope',\n",
       " 'PlayerShootingSplits',\n",
       " 'PlayerShotLogTracking',\n",
       " 'PlayerShotTracking',\n",
       " 'PlayerSummary',\n",
       " 'PlayerVsPlayer',\n",
       " 'PlayerYearOverYearSplits',\n",
       " 'Player_or_Team',\n",
       " 'PlayoffRound',\n",
       " 'PlusMinus',\n",
       " 'PtMeasureType',\n",
       " 'RangeType',\n",
       " 'Rank',\n",
       " 'RookieYear',\n",
       " 'Scope',\n",
       " 'SeasonSegment',\n",
       " 'SeasonType',\n",
       " 'ShotClockRange',\n",
       " 'Sorter',\n",
       " 'StartPeriod',\n",
       " 'StartRange',\n",
       " 'StarterBench',\n",
       " 'StatCategory',\n",
       " 'TEAMS',\n",
       " 'TeamID',\n",
       " 'VsConference',\n",
       " 'VsDivision',\n",
       " 'Weight',\n",
       " '_PlayerDashboard',\n",
       " '__builtins__',\n",
       " '__cached__',\n",
       " '__doc__',\n",
       " '__file__',\n",
       " '__loader__',\n",
       " '__name__',\n",
       " '__package__',\n",
       " '__spec__',\n",
       " '_api_scrape',\n",
       " '_get_json',\n",
       " 'get_player']"
      ]
     },
     "execution_count": 10,
     "metadata": {},
     "output_type": "execute_result"
    }
   ],
   "source": [
    "dir(players)\n"
   ]
  },
  {
   "cell_type": "code",
   "execution_count": 92,
   "metadata": {
    "collapsed": false
   },
   "outputs": [
    {
     "ename": "AttributeError",
     "evalue": "'DataFrame' object has no attribute 'aggregate'",
     "output_type": "error",
     "traceback": [
      "\u001b[0;31m---------------------------------------------------------------------------\u001b[0m",
      "\u001b[0;31mAttributeError\u001b[0m                            Traceback (most recent call last)",
      "\u001b[0;32m<ipython-input-92-98dfefd9b6e4>\u001b[0m in \u001b[0;36m<module>\u001b[0;34m()\u001b[0m\n\u001b[1;32m      3\u001b[0m \u001b[0ma\u001b[0m \u001b[0;34m=\u001b[0m \u001b[0mpd\u001b[0m\u001b[0;34m.\u001b[0m\u001b[0mDataFrame\u001b[0m\u001b[0;34m(\u001b[0m\u001b[0mp\u001b[0m\u001b[0;34m.\u001b[0m\u001b[0mseasonStatsWithDKFPS\u001b[0m\u001b[0;34m.\u001b[0m\u001b[0mDKFPS\u001b[0m\u001b[0;34m)\u001b[0m\u001b[0;34m\u001b[0m\u001b[0m\n\u001b[1;32m      4\u001b[0m \u001b[0mb\u001b[0m\u001b[0;34m=\u001b[0m \u001b[0ma\u001b[0m\u001b[0;34m.\u001b[0m\u001b[0mrolling\u001b[0m\u001b[0;34m(\u001b[0m\u001b[0mwindow\u001b[0m\u001b[0;34m=\u001b[0m\u001b[0mlen\u001b[0m\u001b[0;34m(\u001b[0m\u001b[0mdf\u001b[0m\u001b[0;34m)\u001b[0m\u001b[0;34m,\u001b[0m \u001b[0mmin_periods\u001b[0m\u001b[0;34m=\u001b[0m\u001b[0;36m1\u001b[0m\u001b[0;34m)\u001b[0m\u001b[0;34m.\u001b[0m\u001b[0mmean\u001b[0m\u001b[0;34m(\u001b[0m\u001b[0;34m)\u001b[0m\u001b[0;34m[\u001b[0m\u001b[0;34m:\u001b[0m\u001b[0;36m5\u001b[0m\u001b[0;34m]\u001b[0m\u001b[0;34m\u001b[0m\u001b[0m\n\u001b[0;32m----> 5\u001b[0;31m \u001b[0mb\u001b[0m\u001b[0;34m.\u001b[0m\u001b[0maggregate\u001b[0m\u001b[0;34m(\u001b[0m\u001b[0;34m[\u001b[0m\u001b[0mnp\u001b[0m\u001b[0;34m.\u001b[0m\u001b[0mmean\u001b[0m\u001b[0;34m]\u001b[0m\u001b[0;34m)\u001b[0m\u001b[0;34m\u001b[0m\u001b[0m\n\u001b[0m\u001b[1;32m      6\u001b[0m \u001b[0;31m# print(a.mean(),a.var(),a.mad(),a.kurt(),a.skew())\u001b[0m\u001b[0;34m\u001b[0m\u001b[0;34m\u001b[0m\u001b[0m\n\u001b[1;32m      7\u001b[0m \u001b[0;31m#print(a.describe())\u001b[0m\u001b[0;34m\u001b[0m\u001b[0;34m\u001b[0m\u001b[0m\n",
      "\u001b[0;32m/Users/marek5050/anaconda/lib/python3.5/site-packages/pandas/core/generic.py\u001b[0m in \u001b[0;36m__getattr__\u001b[0;34m(self, name)\u001b[0m\n\u001b[1;32m   2670\u001b[0m             \u001b[0;32mif\u001b[0m \u001b[0mname\u001b[0m \u001b[0;32min\u001b[0m \u001b[0mself\u001b[0m\u001b[0;34m.\u001b[0m\u001b[0m_info_axis\u001b[0m\u001b[0;34m:\u001b[0m\u001b[0;34m\u001b[0m\u001b[0m\n\u001b[1;32m   2671\u001b[0m                 \u001b[0;32mreturn\u001b[0m \u001b[0mself\u001b[0m\u001b[0;34m[\u001b[0m\u001b[0mname\u001b[0m\u001b[0;34m]\u001b[0m\u001b[0;34m\u001b[0m\u001b[0m\n\u001b[0;32m-> 2672\u001b[0;31m             \u001b[0;32mreturn\u001b[0m \u001b[0mobject\u001b[0m\u001b[0;34m.\u001b[0m\u001b[0m__getattribute__\u001b[0m\u001b[0;34m(\u001b[0m\u001b[0mself\u001b[0m\u001b[0;34m,\u001b[0m \u001b[0mname\u001b[0m\u001b[0;34m)\u001b[0m\u001b[0;34m\u001b[0m\u001b[0m\n\u001b[0m\u001b[1;32m   2673\u001b[0m \u001b[0;34m\u001b[0m\u001b[0m\n\u001b[1;32m   2674\u001b[0m     \u001b[0;32mdef\u001b[0m \u001b[0m__setattr__\u001b[0m\u001b[0;34m(\u001b[0m\u001b[0mself\u001b[0m\u001b[0;34m,\u001b[0m \u001b[0mname\u001b[0m\u001b[0;34m,\u001b[0m \u001b[0mvalue\u001b[0m\u001b[0;34m)\u001b[0m\u001b[0;34m:\u001b[0m\u001b[0;34m\u001b[0m\u001b[0m\n",
      "\u001b[0;31mAttributeError\u001b[0m: 'DataFrame' object has no attribute 'aggregate'"
     ]
    }
   ],
   "source": [
    "from pandas.stats.moments import rolling_var\n",
    "import numpy as np\n",
    "a = pd.DataFrame(p.seasonStatsWithDKFPS.DKFPS)\n",
    "b= a.rolling(window=len(df), min_periods=1).mean()[:5]\n",
    "b.aggregate([np.mean])\n",
    "# print(a.mean(),a.var(),a.mad(),a.kurt(),a.skew())\n",
    "#print(a.describe())\n",
    "#"
   ]
  },
  {
   "cell_type": "code",
   "execution_count": 57,
   "metadata": {
    "collapsed": true
   },
   "outputs": [],
   "source": [
    "%matplotlib inline\n",
    "\n",
    "import matplotlib.pyplot as plt\n",
    "import pandas as pd\n",
    "import numpy as np\n",
    "df = pd.DataFrame(np.random.randn(1000, 4),index=pd.date_range('1/1/2000', periods=1000),columns=['A', 'B', 'C', 'D'])\n",
    "df = df.cumsum()\n",
    "#df.rolling(window=60).sum().plot(subplots=True)"
   ]
  },
  {
   "cell_type": "code",
   "execution_count": 15,
   "metadata": {
    "collapsed": false
   },
   "outputs": [
    {
     "data": {
      "text/plain": [
       "77.78449730094466"
      ]
     },
     "execution_count": 15,
     "metadata": {},
     "output_type": "execute_result"
    }
   ],
   "source": [
    "p.seasonStatsWithDKFPS.DKFPS.var()"
   ]
  },
  {
   "cell_type": "code",
   "execution_count": null,
   "metadata": {
    "collapsed": true
   },
   "outputs": [],
   "source": []
  }
 ],
 "metadata": {
  "anaconda-cloud": {},
  "kernelspec": {
   "display_name": "Python [conda root]",
   "language": "python",
   "name": "conda-root-py"
  },
  "language_info": {
   "codemirror_mode": {
    "name": "ipython",
    "version": 3
   },
   "file_extension": ".py",
   "mimetype": "text/x-python",
   "name": "python",
   "nbconvert_exporter": "python",
   "pygments_lexer": "ipython3",
   "version": "3.5.2"
  }
 },
 "nbformat": 4,
 "nbformat_minor": 0
}
