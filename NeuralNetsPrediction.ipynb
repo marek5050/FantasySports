{
 "cells": [
  {
   "cell_type": "code",
   "execution_count": 1,
   "metadata": {
    "collapsed": false
   },
   "outputs": [
    {
     "name": "stdout",
     "output_type": "stream",
     "text": [
      "Last file loaded: data/final/2017-01-24.csv\n",
      "Test file data/final/2017-01-25.csv\n",
      "Predict file data/final/2017-01-26.csv\n",
      "Out file data/final2/2017-01-26.csv\n"
     ]
    }
   ],
   "source": [
    "import numpy as np\n",
    "import pandas as pd\n",
    "from sklearn.preprocessing import StandardScaler\n",
    "from time import time\n",
    "\n",
    "np.random.seed(1337)\n",
    "\n",
    "\n",
    "from datetime import date\n",
    "\n",
    "today = str(date.today())\n",
    "end_date = today\n",
    "\n",
    "import glob\n",
    "\n",
    "path = r'data/final/'  # use your path\n",
    "allFiles = glob.glob(path + \"/*.csv\")\n",
    "\n",
    "dftrain = pd.DataFrame()\n",
    "\n",
    "for _file in allFiles[:-2]:\n",
    "        try:\n",
    "            t = pd.read_csv(_file,header=0)\n",
    "            if len(t[(t[\"fvalue\"].isnull())]) > 0:\n",
    "                print(\"Some nulls in \" + _file)\n",
    "            dftrain = pd.concat([dftrain,t])\n",
    "        except:\n",
    "            pass\n",
    "print(\"Last file loaded: \" + _file)\n",
    "test_file = allFiles[-2:-1][0]\n",
    "print(\"Test file \" + test_file)\n",
    "dfTest = pd.read_csv(test_file,header=0)\n",
    "\n",
    "predict_file = 'data/final/2017-01-26.csv'\n",
    "print(\"Predict file \" + predict_file)\n",
    "dfPredict = pd.read_csv(predict_file, header=0)\n",
    "\n",
    "out_file = predict_file.replace(\"final\",\"final2\")\n",
    "print(\"Out file \" + out_file)"
   ]
  },
  {
   "cell_type": "code",
   "execution_count": 3,
   "metadata": {
    "collapsed": true
   },
   "outputs": [],
   "source": [
    "scaler = StandardScaler()\n",
    "features = ['Salary','AvgPointsPerGame'\n",
    "    ,'7GameAvg','FloorAvg'\n",
    "    ,'4GameAvg','value','fvalue'\n",
    "    ,'atHome','LastGame','O/U','odds',\"dvp\"]"
   ]
  },
  {
   "cell_type": "code",
   "execution_count": 5,
   "metadata": {
    "collapsed": true
   },
   "outputs": [],
   "source": [
    "df_train = dftrain\n",
    "X_train = scaler.fit_transform(df_train[features].values)\n",
    "y_train = df_train[\"Final\"].values\n",
    "#y_train_onehot = pd.get_dummies(df_train['4GameAvg']).values"
   ]
  },
  {
   "cell_type": "code",
   "execution_count": 6,
   "metadata": {
    "collapsed": true
   },
   "outputs": [],
   "source": [
    "df_test = dfTest\n",
    "\n",
    "X_test = scaler.transform(df_test[features].values)\n",
    "y_test = df_test[\"Final\"].values"
   ]
  },
  {
   "cell_type": "code",
   "execution_count": 7,
   "metadata": {
    "collapsed": true
   },
   "outputs": [],
   "source": [
    "# Ignore warnings\n",
    "import warnings\n",
    "warnings.filterwarnings('ignore')\n",
    "\n",
    "# Handle table-like data and matrices\n",
    "import numpy as np\n",
    "import pandas as pd\n",
    "\n",
    "# Modelling Algorithms\n",
    "from sklearn.tree import DecisionTreeClassifier\n",
    "from sklearn.linear_model import LogisticRegression\n",
    "from sklearn.neighbors import KNeighborsClassifier\n",
    "from sklearn.naive_bayes import GaussianNB\n",
    "from sklearn.svm import SVC, LinearSVC\n",
    "from sklearn.ensemble import RandomForestClassifier , GradientBoostingClassifier\n",
    "\n",
    "# Modelling Helpers\n",
    "from sklearn.preprocessing import Imputer , Normalizer , scale\n",
    "from sklearn.cross_validation import train_test_split , StratifiedKFold\n",
    "from sklearn.feature_selection import RFECV\n",
    "\n",
    "# Visualisation\n",
    "import matplotlib as mpl\n",
    "import matplotlib.pyplot as plt\n",
    "import matplotlib.pylab as pylab\n",
    "import seaborn as sns\n",
    "\n",
    "# Configure visualisations\n",
    "%matplotlib inline\n",
    "mpl.style.use( 'ggplot' )\n",
    "sns.set_style( 'white' )\n",
    "pylab.rcParams[ 'figure.figsize' ] = 8 , 6"
   ]
  },
  {
   "cell_type": "code",
   "execution_count": 8,
   "metadata": {
    "collapsed": false
   },
   "outputs": [
    {
     "name": "stdout",
     "output_type": "stream",
     "text": [
      "\n",
      "accuracy 0.871428571429\n"
     ]
    }
   ],
   "source": [
    "from sklearn.ensemble import RandomForestRegressor\n",
    "\n",
    "modelRFR = RandomForestRegressor(n_estimators=130,\n",
    "                              random_state=1,\n",
    "                              verbose=False,\n",
    "                              warm_start=True)\n",
    "modelRFR = modelRFR.fit(X_train, y_train)\n",
    "\n",
    "#dfPredict = scaler.transform(X_test[features].values)\n",
    "X_test = scaler.transform(df_test[features].values)\n",
    "y_tree_prediction = modelRFR.predict(X_test)\n",
    "print (\"\\naccuracy\", np.sum(abs(y_tree_prediction-y_test)<5) / float(len(y_test)))"
   ]
  },
  {
   "cell_type": "code",
   "execution_count": 8,
   "metadata": {
    "collapsed": false
   },
   "outputs": [],
   "source": [
    "#y_tree_prediction\n",
    "#pd.concat([dfTest[\"Name\"],pd.DataFrame(y_tree_prediction),pd.DataFrame(y_test)],axis=1)"
   ]
  },
  {
   "cell_type": "code",
   "execution_count": 23,
   "metadata": {
    "collapsed": false
   },
   "outputs": [
    {
     "name": "stdout",
     "output_type": "stream",
     "text": [
      "\n",
      "time taken 177.0226399898529 seconds\n"
     ]
    }
   ],
   "source": [
    "from keras.models import Sequential\n",
    "from keras.layers import Dense, Activation\n",
    "\n",
    "start = time()\n",
    "\n",
    "model = Sequential()\n",
    "model.add(Dense(32, input_dim=len(features), init='normal', activation='relu'))\n",
    "model.add(Dense(1, init='normal', activation='relu'))\n",
    "          \n",
    "model.compile(optimizer='adam', metrics=['accuracy'],loss=\"mae\")\n",
    "\n",
    "model.fit(X_train, y_train,\n",
    "          validation_data=(X_test,y_test),\n",
    "          verbose=False,\n",
    "          nb_epoch=150, batch_size=10)\n",
    "\n",
    "print ('\\ntime taken %s seconds' % str(time() - start))"
   ]
  },
  {
   "cell_type": "code",
   "execution_count": 24,
   "metadata": {
    "collapsed": false
   },
   "outputs": [
    {
     "name": "stdout",
     "output_type": "stream",
     "text": [
      " 32/280 [==>...........................] - ETA: 0sacc: 35.71%\n"
     ]
    }
   ],
   "source": [
    "scores = model.evaluate(X_test,y_test)\n",
    "print(\"%s: %.2f%%\" % (model.metrics_names[1], scores[1]*100))"
   ]
  },
  {
   "cell_type": "code",
   "execution_count": 25,
   "metadata": {
    "collapsed": false
   },
   "outputs": [
    {
     "name": "stdout",
     "output_type": "stream",
     "text": [
      "0.878571428571\n"
     ]
    }
   ],
   "source": [
    "#dfpredict = pd.read_csv('data/output/3017-01-21.csv', header=0)\n",
    "\n",
    "#X_test = scaler.transform(dfPredict1[features].values)\n",
    "\n",
    "y_predict = model.predict(X_test)\n",
    "#pd.DataFrame(y_predict).describe()\n",
    "# (y_predict - y_test) < 10\n",
    "print(np.sum(abs(y_predict.T[0]-y_test) < 5)/float(len(y_test)))\n",
    "#y_predict[[range(0,len(y_predict))]]\n",
    "#print (\"\\naccuracy\", np.sum(abs(y_predict-y_test)<10) / float(len(y_test)))\n",
    "#y_tree_predict = modelRFR.predict(X_test)"
   ]
  },
  {
   "cell_type": "code",
   "execution_count": 22,
   "metadata": {
    "collapsed": true
   },
   "outputs": [],
   "source": [
    "output = pd.concat([dfTest,\n",
    "            pd.DataFrame(y_predict,columns=[\"NN\"]),\n",
    "            pd.DataFrame(y_tree_prediction,columns=[\"RF\"])]\n",
    "          ,axis=1)\n",
    "#output.to_csv('data/output/2017-01-24.csv', sep=',', encoding='utf-8', index=False, float_format='%.3f')"
   ]
  },
  {
   "cell_type": "code",
   "execution_count": 56,
   "metadata": {
    "collapsed": false
   },
   "outputs": [
    {
     "data": {
      "text/html": [
       "<div>\n",
       "<table border=\"1\" class=\"dataframe\">\n",
       "  <thead>\n",
       "    <tr style=\"text-align: right;\">\n",
       "      <th></th>\n",
       "      <th>Name</th>\n",
       "      <th>NN</th>\n",
       "      <th>RF</th>\n",
       "      <th>AvgPointsPerGame</th>\n",
       "      <th>Final</th>\n",
       "      <th>O/U</th>\n",
       "      <th>odds</th>\n",
       "      <th>dvp</th>\n",
       "    </tr>\n",
       "  </thead>\n",
       "  <tbody>\n",
       "    <tr>\n",
       "      <th>7</th>\n",
       "      <td>Isaiah Thomas</td>\n",
       "      <td>55.215801</td>\n",
       "      <td>56.937500</td>\n",
       "      <td>43.813</td>\n",
       "      <td>60.25</td>\n",
       "      <td>229.0</td>\n",
       "      <td>4.0</td>\n",
       "      <td>9.5</td>\n",
       "    </tr>\n",
       "    <tr>\n",
       "      <th>1</th>\n",
       "      <td>James Harden</td>\n",
       "      <td>53.166351</td>\n",
       "      <td>47.100543</td>\n",
       "      <td>60.651</td>\n",
       "      <td>58.50</td>\n",
       "      <td>229.0</td>\n",
       "      <td>-4.0</td>\n",
       "      <td>19.0</td>\n",
       "    </tr>\n",
       "    <tr>\n",
       "      <th>30</th>\n",
       "      <td>Al Horford</td>\n",
       "      <td>43.038368</td>\n",
       "      <td>45.725543</td>\n",
       "      <td>36.140</td>\n",
       "      <td>47.75</td>\n",
       "      <td>229.0</td>\n",
       "      <td>4.0</td>\n",
       "      <td>22.0</td>\n",
       "    </tr>\n",
       "    <tr>\n",
       "      <th>49</th>\n",
       "      <td>Jae Crowder</td>\n",
       "      <td>41.257439</td>\n",
       "      <td>42.086957</td>\n",
       "      <td>26.403</td>\n",
       "      <td>45.00</td>\n",
       "      <td>229.0</td>\n",
       "      <td>4.0</td>\n",
       "      <td>25.0</td>\n",
       "    </tr>\n",
       "    <tr>\n",
       "      <th>166</th>\n",
       "      <td>Nene Hilario</td>\n",
       "      <td>30.168289</td>\n",
       "      <td>32.241848</td>\n",
       "      <td>15.976</td>\n",
       "      <td>0.00</td>\n",
       "      <td>229.0</td>\n",
       "      <td>-4.0</td>\n",
       "      <td>21.0</td>\n",
       "    </tr>\n",
       "  </tbody>\n",
       "</table>\n",
       "</div>"
      ],
      "text/plain": [
       "<div>\n",
       "<table border=\"1\" class=\"dataframe\">\n",
       "  <thead>\n",
       "    <tr style=\"text-align: right;\">\n",
       "      <th></th>\n",
       "      <th>Name</th>\n",
       "      <th>NN</th>\n",
       "      <th>RF</th>\n",
       "      <th>AvgPointsPerGame</th>\n",
       "      <th>Final</th>\n",
       "      <th>O/U</th>\n",
       "      <th>odds</th>\n",
       "      <th>dvp</th>\n",
       "    </tr>\n",
       "  </thead>\n",
       "  <tbody>\n",
       "    <tr>\n",
       "      <th>7</th>\n",
       "      <td>Isaiah Thomas</td>\n",
       "      <td>55.215801</td>\n",
       "      <td>56.937500</td>\n",
       "      <td>43.813</td>\n",
       "      <td>60.25</td>\n",
       "      <td>229.0</td>\n",
       "      <td>4.0</td>\n",
       "      <td>9.5</td>\n",
       "    </tr>\n",
       "    <tr>\n",
       "      <th>1</th>\n",
       "      <td>James Harden</td>\n",
       "      <td>53.166351</td>\n",
       "      <td>47.100543</td>\n",
       "      <td>60.651</td>\n",
       "      <td>58.50</td>\n",
       "      <td>229.0</td>\n",
       "      <td>-4.0</td>\n",
       "      <td>19.0</td>\n",
       "    </tr>\n",
       "    <tr>\n",
       "      <th>30</th>\n",
       "      <td>Al Horford</td>\n",
       "      <td>43.038368</td>\n",
       "      <td>45.725543</td>\n",
       "      <td>36.140</td>\n",
       "      <td>47.75</td>\n",
       "      <td>229.0</td>\n",
       "      <td>4.0</td>\n",
       "      <td>22.0</td>\n",
       "    </tr>\n",
       "    <tr>\n",
       "      <th>49</th>\n",
       "      <td>Jae Crowder</td>\n",
       "      <td>41.257439</td>\n",
       "      <td>42.086957</td>\n",
       "      <td>26.403</td>\n",
       "      <td>45.00</td>\n",
       "      <td>229.0</td>\n",
       "      <td>4.0</td>\n",
       "      <td>25.0</td>\n",
       "    </tr>\n",
       "    <tr>\n",
       "      <th>166</th>\n",
       "      <td>Nene Hilario</td>\n",
       "      <td>30.168289</td>\n",
       "      <td>32.241848</td>\n",
       "      <td>15.976</td>\n",
       "      <td>0.00</td>\n",
       "      <td>229.0</td>\n",
       "      <td>-4.0</td>\n",
       "      <td>21.0</td>\n",
       "    </tr>\n",
       "  </tbody>\n",
       "</table>\n",
       "</div>"
      ]
     },
     "execution_count": 56,
     "metadata": {},
     "output_type": "execute_result"
    }
   ],
   "source": [
    "output.loc[:,(\"Name\",\"NN\",\"RF\",\"AvgPointsPerGame\",\"Final\",\"O/U\",\"odds\",\"dvp\")].sort_values(by=[\"O/U\",\"NN\",\"dvp\"], ascending=False).head()"
   ]
  },
  {
   "cell_type": "code",
   "execution_count": 55,
   "metadata": {
    "collapsed": true
   },
   "outputs": [],
   "source": [
    "##  Predictions for Today!!!"
   ]
  },
  {
   "cell_type": "code",
   "execution_count": 66,
   "metadata": {
    "collapsed": true
   },
   "outputs": [],
   "source": [
    "scaler1 = StandardScaler()\n",
    "features = ['Salary','AvgPointsPerGame'\n",
    "    ,'7GameAvg','FloorAvg'\n",
    "    ,'4GameAvg','value','fvalue'\n",
    "    ,'atHome','LastGame','O/U','odds',\"dvp\"]\n",
    "\n",
    "X_predict = scaler1.fit_transform(dfPredict[features].values)\n",
    "y_tree_prediction = modelRFR.predict(X_predict) ## Random Forest\n",
    "y_predict = model.predict(X_predict) ## Neural Networks prediction"
   ]
  },
  {
   "cell_type": "code",
   "execution_count": 69,
   "metadata": {
    "collapsed": true
   },
   "outputs": [],
   "source": [
    "output = pd.concat([dfPredict,\n",
    "            pd.DataFrame(y_predict,columns=[\"NN\"]),\n",
    "            pd.DataFrame(y_tree_prediction,columns=[\"RF\"])]\n",
    "          ,axis=1)"
   ]
  },
  {
   "cell_type": "code",
   "execution_count": 72,
   "metadata": {
    "collapsed": false
   },
   "outputs": [
    {
     "name": "stdout",
     "output_type": "stream",
     "text": [
      "data/final2/2017-01-26.csv\n"
     ]
    }
   ],
   "source": [
    "output.head()\n",
    "print(out_file)"
   ]
  },
  {
   "cell_type": "code",
   "execution_count": 73,
   "metadata": {
    "collapsed": true
   },
   "outputs": [],
   "source": [
    "output.to_csv(out_file, sep=',', encoding='utf-8', index=False, float_format='%.3f')"
   ]
  },
  {
   "cell_type": "code",
   "execution_count": null,
   "metadata": {
    "collapsed": true
   },
   "outputs": [],
   "source": []
  }
 ],
 "metadata": {
  "anaconda-cloud": {},
  "kernelspec": {
   "display_name": "Python [conda root]",
   "language": "python",
   "name": "conda-root-py"
  },
  "language_info": {
   "codemirror_mode": {
    "name": "ipython",
    "version": 3
   },
   "file_extension": ".py",
   "mimetype": "text/x-python",
   "name": "python",
   "nbconvert_exporter": "python",
   "pygments_lexer": "ipython3",
   "version": "3.5.2"
  }
 },
 "nbformat": 4,
 "nbformat_minor": 0
}
